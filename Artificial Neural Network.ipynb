{
 "cells": [
  {
   "cell_type": "markdown",
   "metadata": {},
   "source": [
    "#### Importing the Libraries"
   ]
  },
  {
   "cell_type": "code",
   "execution_count": 22,
   "metadata": {},
   "outputs": [],
   "source": [
    "import pandas as pd\n",
    "import numpy as np\n",
    "import matplotlib.pyplot as plt"
   ]
  },
  {
   "cell_type": "markdown",
   "metadata": {},
   "source": [
    "#### Importing the dataset"
   ]
  },
  {
   "cell_type": "code",
   "execution_count": 23,
   "metadata": {},
   "outputs": [],
   "source": [
    "df = pd.read_csv(r'D:\\machine learning\\Machine Learning A-Z Template Folder\\Part 8 - Deep Learning\\Artificial_Neural_Networks\\Churn_Modelling.csv')"
   ]
  },
  {
   "cell_type": "code",
   "execution_count": 24,
   "metadata": {},
   "outputs": [
    {
     "data": {
      "text/html": [
       "<div>\n",
       "<style scoped>\n",
       "    .dataframe tbody tr th:only-of-type {\n",
       "        vertical-align: middle;\n",
       "    }\n",
       "\n",
       "    .dataframe tbody tr th {\n",
       "        vertical-align: top;\n",
       "    }\n",
       "\n",
       "    .dataframe thead th {\n",
       "        text-align: right;\n",
       "    }\n",
       "</style>\n",
       "<table border=\"1\" class=\"dataframe\">\n",
       "  <thead>\n",
       "    <tr style=\"text-align: right;\">\n",
       "      <th></th>\n",
       "      <th>RowNumber</th>\n",
       "      <th>CustomerId</th>\n",
       "      <th>Surname</th>\n",
       "      <th>CreditScore</th>\n",
       "      <th>Geography</th>\n",
       "      <th>Gender</th>\n",
       "      <th>Age</th>\n",
       "      <th>Tenure</th>\n",
       "      <th>Balance</th>\n",
       "      <th>NumOfProducts</th>\n",
       "      <th>HasCrCard</th>\n",
       "      <th>IsActiveMember</th>\n",
       "      <th>EstimatedSalary</th>\n",
       "      <th>Exited</th>\n",
       "    </tr>\n",
       "  </thead>\n",
       "  <tbody>\n",
       "    <tr>\n",
       "      <th>0</th>\n",
       "      <td>1</td>\n",
       "      <td>15634602</td>\n",
       "      <td>Hargrave</td>\n",
       "      <td>619</td>\n",
       "      <td>France</td>\n",
       "      <td>Female</td>\n",
       "      <td>42</td>\n",
       "      <td>2</td>\n",
       "      <td>0.00</td>\n",
       "      <td>1</td>\n",
       "      <td>1</td>\n",
       "      <td>1</td>\n",
       "      <td>101348.88</td>\n",
       "      <td>1</td>\n",
       "    </tr>\n",
       "    <tr>\n",
       "      <th>1</th>\n",
       "      <td>2</td>\n",
       "      <td>15647311</td>\n",
       "      <td>Hill</td>\n",
       "      <td>608</td>\n",
       "      <td>Spain</td>\n",
       "      <td>Female</td>\n",
       "      <td>41</td>\n",
       "      <td>1</td>\n",
       "      <td>83807.86</td>\n",
       "      <td>1</td>\n",
       "      <td>0</td>\n",
       "      <td>1</td>\n",
       "      <td>112542.58</td>\n",
       "      <td>0</td>\n",
       "    </tr>\n",
       "    <tr>\n",
       "      <th>2</th>\n",
       "      <td>3</td>\n",
       "      <td>15619304</td>\n",
       "      <td>Onio</td>\n",
       "      <td>502</td>\n",
       "      <td>France</td>\n",
       "      <td>Female</td>\n",
       "      <td>42</td>\n",
       "      <td>8</td>\n",
       "      <td>159660.80</td>\n",
       "      <td>3</td>\n",
       "      <td>1</td>\n",
       "      <td>0</td>\n",
       "      <td>113931.57</td>\n",
       "      <td>1</td>\n",
       "    </tr>\n",
       "    <tr>\n",
       "      <th>3</th>\n",
       "      <td>4</td>\n",
       "      <td>15701354</td>\n",
       "      <td>Boni</td>\n",
       "      <td>699</td>\n",
       "      <td>France</td>\n",
       "      <td>Female</td>\n",
       "      <td>39</td>\n",
       "      <td>1</td>\n",
       "      <td>0.00</td>\n",
       "      <td>2</td>\n",
       "      <td>0</td>\n",
       "      <td>0</td>\n",
       "      <td>93826.63</td>\n",
       "      <td>0</td>\n",
       "    </tr>\n",
       "    <tr>\n",
       "      <th>4</th>\n",
       "      <td>5</td>\n",
       "      <td>15737888</td>\n",
       "      <td>Mitchell</td>\n",
       "      <td>850</td>\n",
       "      <td>Spain</td>\n",
       "      <td>Female</td>\n",
       "      <td>43</td>\n",
       "      <td>2</td>\n",
       "      <td>125510.82</td>\n",
       "      <td>1</td>\n",
       "      <td>1</td>\n",
       "      <td>1</td>\n",
       "      <td>79084.10</td>\n",
       "      <td>0</td>\n",
       "    </tr>\n",
       "  </tbody>\n",
       "</table>\n",
       "</div>"
      ],
      "text/plain": [
       "   RowNumber  CustomerId   Surname  CreditScore Geography  Gender  Age  \\\n",
       "0          1    15634602  Hargrave          619    France  Female   42   \n",
       "1          2    15647311      Hill          608     Spain  Female   41   \n",
       "2          3    15619304      Onio          502    France  Female   42   \n",
       "3          4    15701354      Boni          699    France  Female   39   \n",
       "4          5    15737888  Mitchell          850     Spain  Female   43   \n",
       "\n",
       "   Tenure    Balance  NumOfProducts  HasCrCard  IsActiveMember  \\\n",
       "0       2       0.00              1          1               1   \n",
       "1       1   83807.86              1          0               1   \n",
       "2       8  159660.80              3          1               0   \n",
       "3       1       0.00              2          0               0   \n",
       "4       2  125510.82              1          1               1   \n",
       "\n",
       "   EstimatedSalary  Exited  \n",
       "0        101348.88       1  \n",
       "1        112542.58       0  \n",
       "2        113931.57       1  \n",
       "3         93826.63       0  \n",
       "4         79084.10       0  "
      ]
     },
     "execution_count": 24,
     "metadata": {},
     "output_type": "execute_result"
    }
   ],
   "source": [
    "df.head()"
   ]
  },
  {
   "cell_type": "code",
   "execution_count": 25,
   "metadata": {},
   "outputs": [],
   "source": [
    "X = df.iloc[:, 3:13].values\n",
    "y = df.iloc[:, 13].values"
   ]
  },
  {
   "cell_type": "code",
   "execution_count": 26,
   "metadata": {},
   "outputs": [
    {
     "data": {
      "text/plain": [
       "array([[619, 'France', 'Female', 42, 2, 0.0, 1, 1, 1, 101348.88],\n",
       "       [608, 'Spain', 'Female', 41, 1, 83807.86, 1, 0, 1, 112542.58],\n",
       "       [502, 'France', 'Female', 42, 8, 159660.8, 3, 1, 0, 113931.57],\n",
       "       [699, 'France', 'Female', 39, 1, 0.0, 2, 0, 0, 93826.63],\n",
       "       [850, 'Spain', 'Female', 43, 2, 125510.82, 1, 1, 1, 79084.1]],\n",
       "      dtype=object)"
      ]
     },
     "execution_count": 26,
     "metadata": {},
     "output_type": "execute_result"
    }
   ],
   "source": [
    "X[:5]"
   ]
  },
  {
   "cell_type": "code",
   "execution_count": 27,
   "metadata": {},
   "outputs": [
    {
     "data": {
      "text/plain": [
       "array([1, 0, 1, 0, 0], dtype=int64)"
      ]
     },
     "execution_count": 27,
     "metadata": {},
     "output_type": "execute_result"
    }
   ],
   "source": [
    "y[:5]"
   ]
  },
  {
   "cell_type": "markdown",
   "metadata": {},
   "source": [
    "#### Encoding Categorical data"
   ]
  },
  {
   "cell_type": "code",
   "execution_count": 29,
   "metadata": {},
   "outputs": [],
   "source": [
    "from sklearn.preprocessing import LabelEncoder, OneHotEncoder\n",
    "labelencoder_X_1 = LabelEncoder()\n",
    "X[:, 1] = labelencoder_X_1.fit_transform(X[:, 1])\n",
    "labelencoder_X_2 = LabelEncoder()\n",
    "X[:, 2] = labelencoder_X_2.fit_transform(X[:, 2])"
   ]
  },
  {
   "cell_type": "code",
   "execution_count": 30,
   "metadata": {},
   "outputs": [
    {
     "data": {
      "text/plain": [
       "array([[619, 0, 0, 42, 2, 0.0, 1, 1, 1, 101348.88],\n",
       "       [608, 2, 0, 41, 1, 83807.86, 1, 0, 1, 112542.58],\n",
       "       [502, 0, 0, 42, 8, 159660.8, 3, 1, 0, 113931.57],\n",
       "       [699, 0, 0, 39, 1, 0.0, 2, 0, 0, 93826.63],\n",
       "       [850, 2, 0, 43, 2, 125510.82, 1, 1, 1, 79084.1]], dtype=object)"
      ]
     },
     "execution_count": 30,
     "metadata": {},
     "output_type": "execute_result"
    }
   ],
   "source": [
    "X[:5]"
   ]
  },
  {
   "cell_type": "code",
   "execution_count": 34,
   "metadata": {},
   "outputs": [],
   "source": [
    "onehotencoder = OneHotEncoder(categorical_features = [1])\n",
    "X = onehotencoder.fit_transform(X).toarray()"
   ]
  },
  {
   "cell_type": "code",
   "execution_count": 35,
   "metadata": {},
   "outputs": [
    {
     "data": {
      "text/plain": [
       "array([[1.0000000e+00, 0.0000000e+00, 0.0000000e+00, 6.1900000e+02,\n",
       "        0.0000000e+00, 4.2000000e+01, 2.0000000e+00, 0.0000000e+00,\n",
       "        1.0000000e+00, 1.0000000e+00, 1.0000000e+00, 1.0134888e+05],\n",
       "       [0.0000000e+00, 0.0000000e+00, 1.0000000e+00, 6.0800000e+02,\n",
       "        0.0000000e+00, 4.1000000e+01, 1.0000000e+00, 8.3807860e+04,\n",
       "        1.0000000e+00, 0.0000000e+00, 1.0000000e+00, 1.1254258e+05],\n",
       "       [1.0000000e+00, 0.0000000e+00, 0.0000000e+00, 5.0200000e+02,\n",
       "        0.0000000e+00, 4.2000000e+01, 8.0000000e+00, 1.5966080e+05,\n",
       "        3.0000000e+00, 1.0000000e+00, 0.0000000e+00, 1.1393157e+05],\n",
       "       [1.0000000e+00, 0.0000000e+00, 0.0000000e+00, 6.9900000e+02,\n",
       "        0.0000000e+00, 3.9000000e+01, 1.0000000e+00, 0.0000000e+00,\n",
       "        2.0000000e+00, 0.0000000e+00, 0.0000000e+00, 9.3826630e+04],\n",
       "       [0.0000000e+00, 0.0000000e+00, 1.0000000e+00, 8.5000000e+02,\n",
       "        0.0000000e+00, 4.3000000e+01, 2.0000000e+00, 1.2551082e+05,\n",
       "        1.0000000e+00, 1.0000000e+00, 1.0000000e+00, 7.9084100e+04]])"
      ]
     },
     "execution_count": 35,
     "metadata": {},
     "output_type": "execute_result"
    }
   ],
   "source": [
    "X[:5]"
   ]
  },
  {
   "cell_type": "code",
   "execution_count": 36,
   "metadata": {},
   "outputs": [],
   "source": [
    "X = X[:, 1:]"
   ]
  },
  {
   "cell_type": "markdown",
   "metadata": {},
   "source": [
    "#### Spliiting the dataset"
   ]
  },
  {
   "cell_type": "code",
   "execution_count": 37,
   "metadata": {},
   "outputs": [],
   "source": [
    "from sklearn.model_selection import train_test_split\n",
    "X_train, X_test, y_train, y_test = train_test_split(X, y, test_size = 0.2, random_state = 0)"
   ]
  },
  {
   "cell_type": "markdown",
   "metadata": {},
   "source": [
    "#### Feature Scalling"
   ]
  },
  {
   "cell_type": "code",
   "execution_count": 38,
   "metadata": {},
   "outputs": [],
   "source": [
    "from sklearn.preprocessing import StandardScaler\n",
    "sc = StandardScaler()\n",
    "X_train = sc.fit_transform(X_train)\n",
    "X_test = sc.fit_transform(X_test)"
   ]
  },
  {
   "cell_type": "code",
   "execution_count": 39,
   "metadata": {},
   "outputs": [
    {
     "data": {
      "text/plain": [
       "array([[-0.5698444 ,  1.74309049,  0.16958176, -1.09168714, -0.46460796,\n",
       "         0.00666099, -1.21571749,  0.8095029 ,  0.64259497, -1.03227043,\n",
       "         1.10643166],\n",
       "       [ 1.75486502, -0.57369368, -2.30455945,  0.91601335,  0.30102557,\n",
       "        -1.37744033, -0.00631193, -0.92159124,  0.64259497,  0.9687384 ,\n",
       "        -0.74866447],\n",
       "       [-0.5698444 , -0.57369368, -1.19119591, -1.09168714, -0.94312892,\n",
       "        -1.031415  ,  0.57993469, -0.92159124,  0.64259497, -1.03227043,\n",
       "         1.48533467],\n",
       "       [-0.5698444 ,  1.74309049,  0.03556578,  0.91601335,  0.10961719,\n",
       "         0.00666099,  0.47312769, -0.92159124,  0.64259497, -1.03227043,\n",
       "         1.27652776],\n",
       "       [-0.5698444 ,  1.74309049,  2.05611444, -1.09168714,  1.73658844,\n",
       "         1.04473698,  0.8101927 ,  0.8095029 ,  0.64259497,  0.9687384 ,\n",
       "         0.55837842]])"
      ]
     },
     "execution_count": 39,
     "metadata": {},
     "output_type": "execute_result"
    }
   ],
   "source": [
    "X_train[:5]"
   ]
  },
  {
   "cell_type": "markdown",
   "metadata": {},
   "source": [
    "### Building the ANN"
   ]
  },
  {
   "cell_type": "code",
   "execution_count": 41,
   "metadata": {},
   "outputs": [],
   "source": [
    "import keras\n",
    "from keras.models import Sequential\n",
    "from keras.layers import Dense"
   ]
  },
  {
   "cell_type": "markdown",
   "metadata": {},
   "source": [
    "#### Initializing the Ann"
   ]
  },
  {
   "cell_type": "code",
   "execution_count": 42,
   "metadata": {},
   "outputs": [],
   "source": [
    "classifier = Sequential()"
   ]
  },
  {
   "cell_type": "code",
   "execution_count": 49,
   "metadata": {
    "scrolled": true
   },
   "outputs": [],
   "source": [
    "# Adding the input layer and the first hidden layer\n",
    "classifier.add(Dense(units=6, activation=\"relu\", input_dim=11, kernel_initializer=\"uniform\"))"
   ]
  },
  {
   "cell_type": "code",
   "execution_count": 50,
   "metadata": {},
   "outputs": [],
   "source": [
    "# Adding the input layer and the second hidden layer\n",
    "classifier.add(Dense(units=6, activation=\"relu\", kernel_initializer=\"uniform\"))"
   ]
  },
  {
   "cell_type": "code",
   "execution_count": 51,
   "metadata": {},
   "outputs": [],
   "source": [
    "# Adding the output Layer\n",
    "classifier.add(Dense(units=1, activation=\"sigmoid\", kernel_initializer=\"uniform\"))"
   ]
  },
  {
   "cell_type": "code",
   "execution_count": 52,
   "metadata": {},
   "outputs": [],
   "source": [
    "# Compiling the ANN\n",
    "classifier.compile(optimizer = 'adam', loss = 'binary_crossentropy', metrics = ['accuracy'])"
   ]
  },
  {
   "cell_type": "code",
   "execution_count": 53,
   "metadata": {},
   "outputs": [
    {
     "name": "stderr",
     "output_type": "stream",
     "text": [
      "C:\\Users\\aksha\\Anaconda3\\lib\\site-packages\\ipykernel_launcher.py:2: UserWarning: The `nb_epoch` argument in `fit` has been renamed `epochs`.\n",
      "  \n"
     ]
    },
    {
     "name": "stdout",
     "output_type": "stream",
     "text": [
      "Epoch 1/100\n",
      "8000/8000 [==============================] - 2s 199us/step - loss: 0.4808 - acc: 0.7959\n",
      "Epoch 2/100\n",
      "8000/8000 [==============================] - 1s 78us/step - loss: 0.4302 - acc: 0.7960\n",
      "Epoch 3/100\n",
      "8000/8000 [==============================] - 1s 115us/step - loss: 0.4262 - acc: 0.7960\n",
      "Epoch 4/100\n",
      "8000/8000 [==============================] - 1s 77us/step - loss: 0.4208 - acc: 0.8114\n",
      "Epoch 5/100\n",
      "8000/8000 [==============================] - 1s 73us/step - loss: 0.4176 - acc: 0.8239\n",
      "Epoch 6/100\n",
      "8000/8000 [==============================] - 1s 73us/step - loss: 0.4154 - acc: 0.8249\n",
      "Epoch 7/100\n",
      "8000/8000 [==============================] - 1s 72us/step - loss: 0.4135 - acc: 0.8281\n",
      "Epoch 8/100\n",
      "8000/8000 [==============================] - 1s 75us/step - loss: 0.4129 - acc: 0.8326\n",
      "Epoch 9/100\n",
      "8000/8000 [==============================] - 1s 75us/step - loss: 0.4113 - acc: 0.8306\n",
      "Epoch 10/100\n",
      "8000/8000 [==============================] - 1s 103us/step - loss: 0.4101 - acc: 0.8335\n",
      "Epoch 11/100\n",
      "8000/8000 [==============================] - 1s 92us/step - loss: 0.4090 - acc: 0.8326\n",
      "Epoch 12/100\n",
      "8000/8000 [==============================] - 1s 75us/step - loss: 0.4078 - acc: 0.8345\n",
      "Epoch 13/100\n",
      "8000/8000 [==============================] - 1s 83us/step - loss: 0.4068 - acc: 0.8344\n",
      "Epoch 14/100\n",
      "8000/8000 [==============================] - 1s 116us/step - loss: 0.4062 - acc: 0.8332\n",
      "Epoch 15/100\n",
      "8000/8000 [==============================] - 1s 96us/step - loss: 0.4053 - acc: 0.8339\n",
      "Epoch 16/100\n",
      "8000/8000 [==============================] - 1s 108us/step - loss: 0.4048 - acc: 0.8346\n",
      "Epoch 17/100\n",
      "8000/8000 [==============================] - 1s 85us/step - loss: 0.4042 - acc: 0.8344\n",
      "Epoch 18/100\n",
      "8000/8000 [==============================] - 1s 103us/step - loss: 0.4042 - acc: 0.8361\n",
      "Epoch 19/100\n",
      "8000/8000 [==============================] - 1s 88us/step - loss: 0.4039 - acc: 0.8316\n",
      "Epoch 20/100\n",
      "8000/8000 [==============================] - 1s 98us/step - loss: 0.4033 - acc: 0.8354\n",
      "Epoch 21/100\n",
      "8000/8000 [==============================] - 1s 96us/step - loss: 0.4030 - acc: 0.8332\n",
      "Epoch 22/100\n",
      "8000/8000 [==============================] - 1s 76us/step - loss: 0.4023 - acc: 0.8359\n",
      "Epoch 23/100\n",
      "8000/8000 [==============================] - 1s 76us/step - loss: 0.4030 - acc: 0.8352\n",
      "Epoch 24/100\n",
      "8000/8000 [==============================] - 1s 77us/step - loss: 0.4023 - acc: 0.8359\n",
      "Epoch 25/100\n",
      "8000/8000 [==============================] - 1s 104us/step - loss: 0.4021 - acc: 0.8359\n",
      "Epoch 26/100\n",
      "8000/8000 [==============================] - 1s 75us/step - loss: 0.4022 - acc: 0.8336\n",
      "Epoch 27/100\n",
      "8000/8000 [==============================] - 1s 95us/step - loss: 0.4019 - acc: 0.8350\n",
      "Epoch 28/100\n",
      "8000/8000 [==============================] - 1s 101us/step - loss: 0.4020 - acc: 0.8352\n",
      "Epoch 29/100\n",
      "8000/8000 [==============================] - 1s 78us/step - loss: 0.4020 - acc: 0.8354\n",
      "Epoch 30/100\n",
      "8000/8000 [==============================] - 1s 104us/step - loss: 0.4017 - acc: 0.8346\n",
      "Epoch 31/100\n",
      "8000/8000 [==============================] - 1s 74us/step - loss: 0.4008 - acc: 0.8345\n",
      "Epoch 32/100\n",
      "8000/8000 [==============================] - 1s 93us/step - loss: 0.4015 - acc: 0.8344\n",
      "Epoch 33/100\n",
      "8000/8000 [==============================] - 1s 111us/step - loss: 0.4011 - acc: 0.8345\n",
      "Epoch 34/100\n",
      "8000/8000 [==============================] - 1s 98us/step - loss: 0.4014 - acc: 0.8364\n",
      "Epoch 35/100\n",
      "8000/8000 [==============================] - 1s 95us/step - loss: 0.4011 - acc: 0.8345\n",
      "Epoch 36/100\n",
      "8000/8000 [==============================] - 1s 84us/step - loss: 0.4016 - acc: 0.8345\n",
      "Epoch 37/100\n",
      "8000/8000 [==============================] - 1s 79us/step - loss: 0.4014 - acc: 0.8359\n",
      "Epoch 38/100\n",
      "8000/8000 [==============================] - 1s 98us/step - loss: 0.4007 - acc: 0.8337\n",
      "Epoch 39/100\n",
      "8000/8000 [==============================] - 1s 124us/step - loss: 0.4009 - acc: 0.8351\n",
      "Epoch 40/100\n",
      "8000/8000 [==============================] - 1s 114us/step - loss: 0.4006 - acc: 0.8350\n",
      "Epoch 41/100\n",
      "8000/8000 [==============================] - 1s 104us/step - loss: 0.4007 - acc: 0.8361\n",
      "Epoch 42/100\n",
      "8000/8000 [==============================] - 1s 72us/step - loss: 0.4005 - acc: 0.8362\n",
      "Epoch 43/100\n",
      "8000/8000 [==============================] - 1s 95us/step - loss: 0.4006 - acc: 0.8357\n",
      "Epoch 44/100\n",
      "8000/8000 [==============================] - 1s 87us/step - loss: 0.4004 - acc: 0.8361\n",
      "Epoch 45/100\n",
      "8000/8000 [==============================] - 1s 75us/step - loss: 0.4005 - acc: 0.8351\n",
      "Epoch 46/100\n",
      "8000/8000 [==============================] - 1s 89us/step - loss: 0.4002 - acc: 0.8344\n",
      "Epoch 47/100\n",
      "8000/8000 [==============================] - 1s 86us/step - loss: 0.4007 - acc: 0.8350\n",
      "Epoch 48/100\n",
      "8000/8000 [==============================] - 1s 96us/step - loss: 0.4006 - acc: 0.8364\n",
      "Epoch 49/100\n",
      "8000/8000 [==============================] - 1s 77us/step - loss: 0.4002 - acc: 0.8367\n",
      "Epoch 50/100\n",
      "8000/8000 [==============================] - 1s 73us/step - loss: 0.4007 - acc: 0.8360\n",
      "Epoch 51/100\n",
      "8000/8000 [==============================] - 1s 95us/step - loss: 0.4009 - acc: 0.8351\n",
      "Epoch 52/100\n",
      "8000/8000 [==============================] - 1s 102us/step - loss: 0.3998 - acc: 0.8346\n",
      "Epoch 53/100\n",
      "8000/8000 [==============================] - 1s 80us/step - loss: 0.4002 - acc: 0.8346\n",
      "Epoch 54/100\n",
      "8000/8000 [==============================] - 1s 82us/step - loss: 0.3994 - acc: 0.8352\n",
      "Epoch 55/100\n",
      "8000/8000 [==============================] - 1s 80us/step - loss: 0.4001 - acc: 0.8379\n",
      "Epoch 56/100\n",
      "8000/8000 [==============================] - 1s 81us/step - loss: 0.3990 - acc: 0.8332\n",
      "Epoch 57/100\n",
      "8000/8000 [==============================] - 1s 73us/step - loss: 0.3993 - acc: 0.8377\n",
      "Epoch 58/100\n",
      "8000/8000 [==============================] - 1s 93us/step - loss: 0.3995 - acc: 0.8342\n",
      "Epoch 59/100\n",
      "8000/8000 [==============================] - 1s 113us/step - loss: 0.3989 - acc: 0.8341\n",
      "Epoch 60/100\n",
      "8000/8000 [==============================] - 1s 100us/step - loss: 0.3990 - acc: 0.8366\n",
      "Epoch 61/100\n",
      "8000/8000 [==============================] - 1s 116us/step - loss: 0.3991 - acc: 0.8356\n",
      "Epoch 62/100\n",
      "8000/8000 [==============================] - 1s 105us/step - loss: 0.3992 - acc: 0.8372\n",
      "Epoch 63/100\n",
      "8000/8000 [==============================] - 1s 74us/step - loss: 0.3988 - acc: 0.8346\n",
      "Epoch 64/100\n",
      "8000/8000 [==============================] - 1s 79us/step - loss: 0.3982 - acc: 0.8357\n",
      "Epoch 65/100\n",
      "8000/8000 [==============================] - 1s 77us/step - loss: 0.3984 - acc: 0.8365\n",
      "Epoch 66/100\n",
      "8000/8000 [==============================] - 1s 79us/step - loss: 0.3975 - acc: 0.8362\n",
      "Epoch 67/100\n",
      "8000/8000 [==============================] - 1s 84us/step - loss: 0.3973 - acc: 0.8354\n",
      "Epoch 68/100\n",
      "8000/8000 [==============================] - 1s 84us/step - loss: 0.3983 - acc: 0.8349\n",
      "Epoch 69/100\n",
      "8000/8000 [==============================] - 1s 116us/step - loss: 0.3975 - acc: 0.8370\n",
      "Epoch 70/100\n",
      "8000/8000 [==============================] - 1s 84us/step - loss: 0.3976 - acc: 0.8350\n",
      "Epoch 71/100\n",
      "8000/8000 [==============================] - 1s 93us/step - loss: 0.3975 - acc: 0.8350\n",
      "Epoch 72/100\n",
      "8000/8000 [==============================] - 1s 85us/step - loss: 0.3969 - acc: 0.8367\n",
      "Epoch 73/100\n",
      "8000/8000 [==============================] - 1s 88us/step - loss: 0.3970 - acc: 0.8344\n",
      "Epoch 74/100\n",
      "8000/8000 [==============================] - 1s 77us/step - loss: 0.3964 - acc: 0.8362\n",
      "Epoch 75/100\n",
      "8000/8000 [==============================] - 1s 73us/step - loss: 0.3968 - acc: 0.8356\n",
      "Epoch 76/100\n",
      "8000/8000 [==============================] - 1s 94us/step - loss: 0.3964 - acc: 0.8365\n",
      "Epoch 77/100\n",
      "8000/8000 [==============================] - 1s 121us/step - loss: 0.3962 - acc: 0.8366\n",
      "Epoch 78/100\n",
      "8000/8000 [==============================] - 1s 81us/step - loss: 0.3960 - acc: 0.8375\n",
      "Epoch 79/100\n",
      "8000/8000 [==============================] - 1s 80us/step - loss: 0.3960 - acc: 0.8359\n",
      "Epoch 80/100\n",
      "8000/8000 [==============================] - 1s 81us/step - loss: 0.3964 - acc: 0.8369\n",
      "Epoch 81/100\n",
      "8000/8000 [==============================] - 1s 92us/step - loss: 0.3955 - acc: 0.8354\n",
      "Epoch 82/100\n"
     ]
    },
    {
     "name": "stdout",
     "output_type": "stream",
     "text": [
      "8000/8000 [==============================] - 1s 87us/step - loss: 0.3955 - acc: 0.8389\n",
      "Epoch 83/100\n",
      "8000/8000 [==============================] - 1s 75us/step - loss: 0.3959 - acc: 0.8386\n",
      "Epoch 84/100\n",
      "8000/8000 [==============================] - 1s 103us/step - loss: 0.3951 - acc: 0.8377\n",
      "Epoch 85/100\n",
      "8000/8000 [==============================] - 1s 74us/step - loss: 0.3952 - acc: 0.8364\n",
      "Epoch 86/100\n",
      "8000/8000 [==============================] - 1s 72us/step - loss: 0.3947 - acc: 0.8381\n",
      "Epoch 87/100\n",
      "8000/8000 [==============================] - 1s 93us/step - loss: 0.3952 - acc: 0.8367\n",
      "Epoch 88/100\n",
      "8000/8000 [==============================] - 1s 73us/step - loss: 0.3956 - acc: 0.8354\n",
      "Epoch 89/100\n",
      "8000/8000 [==============================] - 1s 75us/step - loss: 0.3944 - acc: 0.8379\n",
      "Epoch 90/100\n",
      "8000/8000 [==============================] - 1s 126us/step - loss: 0.3947 - acc: 0.8367\n",
      "Epoch 91/100\n",
      "8000/8000 [==============================] - 1s 73us/step - loss: 0.3947 - acc: 0.8370\n",
      "Epoch 92/100\n",
      "8000/8000 [==============================] - 1s 76us/step - loss: 0.3952 - acc: 0.8381\n",
      "Epoch 93/100\n",
      "8000/8000 [==============================] - 1s 93us/step - loss: 0.3950 - acc: 0.8382\n",
      "Epoch 94/100\n",
      "8000/8000 [==============================] - 1s 90us/step - loss: 0.3938 - acc: 0.8375\n",
      "Epoch 95/100\n",
      "8000/8000 [==============================] - 1s 78us/step - loss: 0.3938 - acc: 0.8370\n",
      "Epoch 96/100\n",
      "8000/8000 [==============================] - 1s 91us/step - loss: 0.3943 - acc: 0.8375\n",
      "Epoch 97/100\n",
      "8000/8000 [==============================] - 1s 80us/step - loss: 0.3936 - acc: 0.8370\n",
      "Epoch 98/100\n",
      "8000/8000 [==============================] - 1s 88us/step - loss: 0.3942 - acc: 0.8356\n",
      "Epoch 99/100\n",
      "8000/8000 [==============================] - 1s 77us/step - loss: 0.3946 - acc: 0.8379\n",
      "Epoch 100/100\n",
      "8000/8000 [==============================] - 1s 82us/step - loss: 0.3941 - acc: 0.8375\n"
     ]
    },
    {
     "data": {
      "text/plain": [
       "<keras.callbacks.History at 0x1c8a71c80f0>"
      ]
     },
     "execution_count": 53,
     "metadata": {},
     "output_type": "execute_result"
    }
   ],
   "source": [
    "# Fitting the ANN to the training \n",
    "classifier.fit(X_train, y_train, batch_size = 10, nb_epoch = 100)"
   ]
  },
  {
   "cell_type": "markdown",
   "metadata": {},
   "source": [
    "#### Predcting the test set results "
   ]
  },
  {
   "cell_type": "code",
   "execution_count": 54,
   "metadata": {},
   "outputs": [],
   "source": [
    "y_pred = classifier.predict(X_test)"
   ]
  },
  {
   "cell_type": "code",
   "execution_count": 55,
   "metadata": {},
   "outputs": [
    {
     "data": {
      "text/plain": [
       "array([[0.14886425],\n",
       "       [0.26883796],\n",
       "       [0.1163324 ],\n",
       "       ...,\n",
       "       [0.20862316],\n",
       "       [0.11325873],\n",
       "       [0.12550147]], dtype=float32)"
      ]
     },
     "execution_count": 55,
     "metadata": {},
     "output_type": "execute_result"
    }
   ],
   "source": [
    "y_pred"
   ]
  },
  {
   "cell_type": "code",
   "execution_count": 56,
   "metadata": {},
   "outputs": [],
   "source": [
    "y_pred = (y_pred>0.5)"
   ]
  },
  {
   "cell_type": "code",
   "execution_count": 57,
   "metadata": {},
   "outputs": [
    {
     "data": {
      "text/plain": [
       "array([[False],\n",
       "       [False],\n",
       "       [False],\n",
       "       ...,\n",
       "       [False],\n",
       "       [False],\n",
       "       [False]])"
      ]
     },
     "execution_count": 57,
     "metadata": {},
     "output_type": "execute_result"
    }
   ],
   "source": [
    "y_pred"
   ]
  },
  {
   "cell_type": "markdown",
   "metadata": {},
   "source": [
    "#### Making a Confusion Matrix"
   ]
  },
  {
   "cell_type": "code",
   "execution_count": 58,
   "metadata": {},
   "outputs": [],
   "source": [
    "from sklearn.metrics import confusion_matrix\n",
    "cm = confusion_matrix(y_test, y_pred)"
   ]
  },
  {
   "cell_type": "code",
   "execution_count": 59,
   "metadata": {},
   "outputs": [
    {
     "data": {
      "text/plain": [
       "array([[1560,   35],\n",
       "       [ 278,  127]], dtype=int64)"
      ]
     },
     "execution_count": 59,
     "metadata": {},
     "output_type": "execute_result"
    }
   ],
   "source": [
    "cm"
   ]
  },
  {
   "cell_type": "code",
   "execution_count": 60,
   "metadata": {},
   "outputs": [],
   "source": [
    "accuracy = (1560 + 127)/2000"
   ]
  },
  {
   "cell_type": "code",
   "execution_count": 61,
   "metadata": {},
   "outputs": [
    {
     "data": {
      "text/plain": [
       "0.8435"
      ]
     },
     "execution_count": 61,
     "metadata": {},
     "output_type": "execute_result"
    }
   ],
   "source": [
    "accuracy"
   ]
  },
  {
   "cell_type": "code",
   "execution_count": null,
   "metadata": {},
   "outputs": [],
   "source": []
  }
 ],
 "metadata": {
  "kernelspec": {
   "display_name": "Python 3",
   "language": "python",
   "name": "python3"
  },
  "language_info": {
   "codemirror_mode": {
    "name": "ipython",
    "version": 3
   },
   "file_extension": ".py",
   "mimetype": "text/x-python",
   "name": "python",
   "nbconvert_exporter": "python",
   "pygments_lexer": "ipython3",
   "version": "3.6.4"
  }
 },
 "nbformat": 4,
 "nbformat_minor": 2
}
